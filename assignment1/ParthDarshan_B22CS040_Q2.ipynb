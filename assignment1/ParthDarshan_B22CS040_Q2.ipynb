{
 "cells": [
  {
   "cell_type": "code",
   "execution_count": 1,
   "metadata": {},
   "outputs": [],
   "source": [
    "import random\n",
    "import smtplib\n",
    "from email.mime.text import MIMEText"
   ]
  },
  {
   "cell_type": "code",
   "execution_count": 2,
   "metadata": {},
   "outputs": [],
   "source": [
    "# Generate OTP that is 6 digit\n",
    "def generateOTP():\n",
    "    otp = random.randrange(100000, 999999)\n",
    "    return otp"
   ]
  },
  {
   "cell_type": "code",
   "execution_count": 5,
   "metadata": {},
   "outputs": [
    {
     "name": "stdout",
     "output_type": "stream",
     "text": [
      "Email sent successfully!\n"
     ]
    }
   ],
   "source": [
    "otp = generateOTP()\n",
    "to_addr = \"24pd07@gmail.com\"\n",
    "from_addr = \"b22cs040@iitj.ac.in\"\n",
    "msg = f\"\"\"\n",
    "From: {from_addr}\n",
    "To: {to_addr}\n",
    "Subject: Generated OTP for task\n",
    "\n",
    "The OTP generated for your task is: {otp}\n",
    "\"\"\"\n",
    "Pass_key = \"123456\" # Please note I have deleted my app password from here\n",
    "\n",
    "try:\n",
    "    # Sending Mail\n",
    "    server = smtplib.SMTP('smtp.gmail.com', 587)\n",
    "    server.starttls()\n",
    "    server.login(from_addr, Pass_key)  \n",
    "    server.sendmail(from_addr, to_addr, msg)\n",
    "    server.quit()\n",
    "    print(\"Email sent successfully!\")\n",
    "except Exception as e:\n",
    "    print(f\"Error: {e}\")\n"
   ]
  }
 ],
 "metadata": {
  "kernelspec": {
   "display_name": "base",
   "language": "python",
   "name": "python3"
  },
  "language_info": {
   "codemirror_mode": {
    "name": "ipython",
    "version": 3
   },
   "file_extension": ".py",
   "mimetype": "text/x-python",
   "name": "python",
   "nbconvert_exporter": "python",
   "pygments_lexer": "ipython3",
   "version": "3.12.2"
  }
 },
 "nbformat": 4,
 "nbformat_minor": 2
}
